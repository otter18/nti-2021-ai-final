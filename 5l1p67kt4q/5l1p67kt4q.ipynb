{
 "cells": [
  {
   "cell_type": "code",
   "execution_count": 15,
   "metadata": {},
   "outputs": [
    {
     "name": "stdout",
     "output_type": "stream",
     "text": [
      "Requirement already satisfied: transformers in /home/user/conda/lib/python3.7/site-packages (4.3.3)\n",
      "Requirement already satisfied: regex!=2019.12.17 in /home/user/conda/lib/python3.7/site-packages (from transformers) (2020.10.11)\n",
      "Requirement already satisfied: tqdm>=4.27 in /home/user/conda/lib/python3.7/site-packages (from transformers) (4.50.2)\n",
      "Requirement already satisfied: requests in /home/user/conda/lib/python3.7/site-packages (from transformers) (2.24.0)\n",
      "Requirement already satisfied: filelock in /home/user/conda/lib/python3.7/site-packages (from transformers) (3.0.12)\n",
      "Requirement already satisfied: sacremoses in /home/user/conda/lib/python3.7/site-packages (from transformers) (0.0.43)\n",
      "Requirement already satisfied: numpy>=1.17 in /home/user/conda/lib/python3.7/site-packages (from transformers) (1.18.5)\n",
      "Requirement already satisfied: importlib-metadata; python_version < \"3.8\" in /home/user/conda/lib/python3.7/site-packages (from transformers) (2.0.0)\n",
      "Requirement already satisfied: packaging in /home/user/conda/lib/python3.7/site-packages (from transformers) (20.4)\n",
      "Requirement already satisfied: tokenizers<0.11,>=0.10.1 in /home/user/conda/lib/python3.7/site-packages (from transformers) (0.10.1)\n",
      "Requirement already satisfied: urllib3!=1.25.0,!=1.25.1,<1.26,>=1.21.1 in /home/user/conda/lib/python3.7/site-packages (from requests->transformers) (1.25.10)\n",
      "Requirement already satisfied: chardet<4,>=3.0.2 in /home/user/conda/lib/python3.7/site-packages (from requests->transformers) (3.0.4)\n",
      "Requirement already satisfied: idna<3,>=2.5 in /home/user/conda/lib/python3.7/site-packages (from requests->transformers) (2.10)\n",
      "Requirement already satisfied: certifi>=2017.4.17 in /home/user/conda/lib/python3.7/site-packages (from requests->transformers) (2020.12.5)\n",
      "Requirement already satisfied: joblib in /home/user/conda/lib/python3.7/site-packages (from sacremoses->transformers) (0.17.0)\n",
      "Requirement already satisfied: click in /home/user/conda/lib/python3.7/site-packages (from sacremoses->transformers) (7.1.2)\n",
      "Requirement already satisfied: six in /home/user/conda/lib/python3.7/site-packages (from sacremoses->transformers) (1.15.0)\n",
      "Requirement already satisfied: zipp>=0.5 in /home/user/conda/lib/python3.7/site-packages (from importlib-metadata; python_version < \"3.8\"->transformers) (3.3.0)\n",
      "Requirement already satisfied: pyparsing>=2.0.2 in /home/user/conda/lib/python3.7/site-packages (from packaging->transformers) (2.4.7)\n",
      "Requirement already satisfied: tensorboard in /home/user/conda/lib/python3.7/site-packages (2.3.0)\n",
      "Requirement already satisfied: tensorboard-plugin-wit>=1.6.0 in /home/user/conda/lib/python3.7/site-packages (from tensorboard) (1.7.0)\n",
      "Requirement already satisfied: six>=1.10.0 in /home/user/conda/lib/python3.7/site-packages (from tensorboard) (1.15.0)\n",
      "Requirement already satisfied: markdown>=2.6.8 in /home/user/conda/lib/python3.7/site-packages (from tensorboard) (3.3.1)\n",
      "Requirement already satisfied: protobuf>=3.6.0 in /home/user/conda/lib/python3.7/site-packages (from tensorboard) (3.13.0)\n",
      "Requirement already satisfied: google-auth<2,>=1.6.3 in /home/user/conda/lib/python3.7/site-packages (from tensorboard) (1.22.1)\n",
      "Requirement already satisfied: setuptools>=41.0.0 in /home/user/conda/lib/python3.7/site-packages (from tensorboard) (49.6.0.post20201009)\n",
      "Requirement already satisfied: wheel>=0.26; python_version >= \"3\" in /home/user/conda/lib/python3.7/site-packages (from tensorboard) (0.35.1)\n",
      "Requirement already satisfied: grpcio>=1.24.3 in /home/user/conda/lib/python3.7/site-packages (from tensorboard) (1.32.0)\n",
      "Requirement already satisfied: numpy>=1.12.0 in /home/user/conda/lib/python3.7/site-packages (from tensorboard) (1.18.5)\n",
      "Requirement already satisfied: werkzeug>=0.11.15 in /home/user/conda/lib/python3.7/site-packages (from tensorboard) (1.0.1)\n",
      "Requirement already satisfied: google-auth-oauthlib<0.5,>=0.4.1 in /home/user/conda/lib/python3.7/site-packages (from tensorboard) (0.4.1)\n",
      "Requirement already satisfied: requests<3,>=2.21.0 in /home/user/conda/lib/python3.7/site-packages (from tensorboard) (2.24.0)\n",
      "Requirement already satisfied: absl-py>=0.4 in /home/user/conda/lib/python3.7/site-packages (from tensorboard) (0.10.0)\n",
      "Requirement already satisfied: importlib-metadata; python_version < \"3.8\" in /home/user/conda/lib/python3.7/site-packages (from markdown>=2.6.8->tensorboard) (2.0.0)\n",
      "Requirement already satisfied: cachetools<5.0,>=2.0.0 in /home/user/conda/lib/python3.7/site-packages (from google-auth<2,>=1.6.3->tensorboard) (4.1.1)\n",
      "Requirement already satisfied: rsa<5,>=3.1.4; python_version >= \"3.5\" in /home/user/conda/lib/python3.7/site-packages (from google-auth<2,>=1.6.3->tensorboard) (4.5)\n",
      "Requirement already satisfied: pyasn1-modules>=0.2.1 in /home/user/conda/lib/python3.7/site-packages (from google-auth<2,>=1.6.3->tensorboard) (0.2.8)\n",
      "Requirement already satisfied: requests-oauthlib>=0.7.0 in /home/user/conda/lib/python3.7/site-packages (from google-auth-oauthlib<0.5,>=0.4.1->tensorboard) (1.3.0)\n",
      "Requirement already satisfied: certifi>=2017.4.17 in /home/user/conda/lib/python3.7/site-packages (from requests<3,>=2.21.0->tensorboard) (2020.12.5)\n",
      "Requirement already satisfied: urllib3!=1.25.0,!=1.25.1,<1.26,>=1.21.1 in /home/user/conda/lib/python3.7/site-packages (from requests<3,>=2.21.0->tensorboard) (1.25.10)\n",
      "Requirement already satisfied: chardet<4,>=3.0.2 in /home/user/conda/lib/python3.7/site-packages (from requests<3,>=2.21.0->tensorboard) (3.0.4)\n",
      "Requirement already satisfied: idna<3,>=2.5 in /home/user/conda/lib/python3.7/site-packages (from requests<3,>=2.21.0->tensorboard) (2.10)\n",
      "Requirement already satisfied: zipp>=0.5 in /home/user/conda/lib/python3.7/site-packages (from importlib-metadata; python_version < \"3.8\"->markdown>=2.6.8->tensorboard) (3.3.0)\n",
      "Requirement already satisfied: pyasn1>=0.1.3 in /home/user/conda/lib/python3.7/site-packages (from rsa<5,>=3.1.4; python_version >= \"3.5\"->google-auth<2,>=1.6.3->tensorboard) (0.4.8)\n",
      "Requirement already satisfied: oauthlib>=3.0.0 in /home/user/conda/lib/python3.7/site-packages (from requests-oauthlib>=0.7.0->google-auth-oauthlib<0.5,>=0.4.1->tensorboard) (3.1.0)\n",
      "Requirement already satisfied: simpletransformers in /home/user/conda/lib/python3.7/site-packages (0.60.9)\n",
      "Requirement already satisfied: tqdm>=4.47.0 in /home/user/conda/lib/python3.7/site-packages (from simpletransformers) (4.50.2)\n",
      "Requirement already satisfied: streamlit in /home/user/conda/lib/python3.7/site-packages (from simpletransformers) (0.77.0)\n",
      "Requirement already satisfied: numpy in /home/user/conda/lib/python3.7/site-packages (from simpletransformers) (1.18.5)\n",
      "Requirement already satisfied: scipy in /home/user/conda/lib/python3.7/site-packages (from simpletransformers) (1.4.1)\n",
      "Requirement already satisfied: seqeval in /home/user/conda/lib/python3.7/site-packages (from simpletransformers) (1.2.2)\n",
      "Requirement already satisfied: requests in /home/user/conda/lib/python3.7/site-packages (from simpletransformers) (2.24.0)\n",
      "Requirement already satisfied: tensorboardx in /home/user/conda/lib/python3.7/site-packages (from simpletransformers) (1.9)\n",
      "Requirement already satisfied: scikit-learn in /home/user/conda/lib/python3.7/site-packages (from simpletransformers) (0.23.2)\n",
      "Requirement already satisfied: pandas in /home/user/conda/lib/python3.7/site-packages (from simpletransformers) (1.1.3)\n",
      "Requirement already satisfied: tokenizers in /home/user/conda/lib/python3.7/site-packages (from simpletransformers) (0.10.1)\n",
      "Requirement already satisfied: wandb in /home/user/conda/lib/python3.7/site-packages (from simpletransformers) (0.10.20)\n",
      "Requirement already satisfied: sentencepiece in /home/user/conda/lib/python3.7/site-packages (from simpletransformers) (0.1.91)\n",
      "Requirement already satisfied: regex in /home/user/conda/lib/python3.7/site-packages (from simpletransformers) (2020.10.11)\n",
      "Requirement already satisfied: transformers>=4.2.0 in /home/user/conda/lib/python3.7/site-packages (from simpletransformers) (4.3.3)\n",
      "Requirement already satisfied: protobuf!=3.11,>=3.6.0 in /home/user/conda/lib/python3.7/site-packages (from streamlit->simpletransformers) (3.13.0)\n",
      "Requirement already satisfied: base58 in /home/user/conda/lib/python3.7/site-packages (from streamlit->simpletransformers) (2.1.0)\n",
      "Requirement already satisfied: tzlocal in /home/user/conda/lib/python3.7/site-packages (from streamlit->simpletransformers) (2.1)\n"
     ]
    },
    {
     "name": "stdout",
     "output_type": "stream",
     "text": [
      "Requirement already satisfied: packaging in /home/user/conda/lib/python3.7/site-packages (from streamlit->simpletransformers) (20.4)\n",
      "Requirement already satisfied: python-dateutil in /home/user/conda/lib/python3.7/site-packages (from streamlit->simpletransformers) (2.8.1)\n",
      "Requirement already satisfied: pyarrow; python_version < \"3.9\" in /home/user/conda/lib/python3.7/site-packages (from streamlit->simpletransformers) (1.0.1)\n",
      "Requirement already satisfied: altair>=3.2.0 in /home/user/conda/lib/python3.7/site-packages (from streamlit->simpletransformers) (4.1.0)\n",
      "Requirement already satisfied: watchdog; platform_system != \"Darwin\" in /home/user/conda/lib/python3.7/site-packages (from streamlit->simpletransformers) (2.0.2)\n",
      "Requirement already satisfied: validators in /home/user/conda/lib/python3.7/site-packages (from streamlit->simpletransformers) (0.18.2)\n",
      "Requirement already satisfied: pillow>=6.2.0 in /home/user/conda/lib/python3.7/site-packages (from streamlit->simpletransformers) (7.2.0)\n",
      "Requirement already satisfied: gitpython in /home/user/conda/lib/python3.7/site-packages (from streamlit->simpletransformers) (3.1.9)\n",
      "Requirement already satisfied: pydeck>=0.1.dev5 in /home/user/conda/lib/python3.7/site-packages (from streamlit->simpletransformers) (0.6.1)\n",
      "Requirement already satisfied: toml in /home/user/conda/lib/python3.7/site-packages (from streamlit->simpletransformers) (0.10.2)\n",
      "Requirement already satisfied: cachetools>=4.0 in /home/user/conda/lib/python3.7/site-packages (from streamlit->simpletransformers) (4.1.1)\n",
      "Requirement already satisfied: tornado>=5.0 in /home/user/conda/lib/python3.7/site-packages (from streamlit->simpletransformers) (6.0.4)\n",
      "Requirement already satisfied: blinker in /home/user/conda/lib/python3.7/site-packages (from streamlit->simpletransformers) (1.4)\n",
      "Requirement already satisfied: click>=7.0 in /home/user/conda/lib/python3.7/site-packages (from streamlit->simpletransformers) (7.1.2)\n",
      "Requirement already satisfied: astor in /home/user/conda/lib/python3.7/site-packages (from streamlit->simpletransformers) (0.8.1)\n",
      "Requirement already satisfied: chardet<4,>=3.0.2 in /home/user/conda/lib/python3.7/site-packages (from requests->simpletransformers) (3.0.4)\n",
      "Requirement already satisfied: urllib3!=1.25.0,!=1.25.1,<1.26,>=1.21.1 in /home/user/conda/lib/python3.7/site-packages (from requests->simpletransformers) (1.25.10)\n",
      "Requirement already satisfied: certifi>=2017.4.17 in /home/user/conda/lib/python3.7/site-packages (from requests->simpletransformers) (2020.12.5)\n",
      "Requirement already satisfied: idna<3,>=2.5 in /home/user/conda/lib/python3.7/site-packages (from requests->simpletransformers) (2.10)\n",
      "Requirement already satisfied: six in /home/user/conda/lib/python3.7/site-packages (from tensorboardx->simpletransformers) (1.15.0)\n",
      "Requirement already satisfied: joblib>=0.11 in /home/user/conda/lib/python3.7/site-packages (from scikit-learn->simpletransformers) (0.17.0)\n",
      "Requirement already satisfied: threadpoolctl>=2.0.0 in /home/user/conda/lib/python3.7/site-packages (from scikit-learn->simpletransformers) (2.1.0)\n",
      "Requirement already satisfied: pytz>=2017.2 in /home/user/conda/lib/python3.7/site-packages (from pandas->simpletransformers) (2020.1)\n",
      "Requirement already satisfied: PyYAML in /home/user/conda/lib/python3.7/site-packages (from wandb->simpletransformers) (5.3.1)\n",
      "Requirement already satisfied: pathtools in /home/user/conda/lib/python3.7/site-packages (from wandb->simpletransformers) (0.1.2)\n",
      "Requirement already satisfied: psutil>=5.0.0 in /home/user/conda/lib/python3.7/site-packages (from wandb->simpletransformers) (5.7.2)\n",
      "Requirement already satisfied: sentry-sdk>=0.4.0 in /home/user/conda/lib/python3.7/site-packages (from wandb->simpletransformers) (0.20.3)\n",
      "Requirement already satisfied: shortuuid>=0.5.0 in /home/user/conda/lib/python3.7/site-packages (from wandb->simpletransformers) (1.0.1)\n",
      "Requirement already satisfied: configparser>=3.8.1 in /home/user/conda/lib/python3.7/site-packages (from wandb->simpletransformers) (5.0.1)\n",
      "Requirement already satisfied: docker-pycreds>=0.4.0 in /home/user/conda/lib/python3.7/site-packages (from wandb->simpletransformers) (0.4.0)\n",
      "Requirement already satisfied: promise<3,>=2.0 in /home/user/conda/lib/python3.7/site-packages (from wandb->simpletransformers) (2.3)\n",
      "Requirement already satisfied: subprocess32>=3.5.3 in /home/user/conda/lib/python3.7/site-packages (from wandb->simpletransformers) (3.5.4)\n",
      "Requirement already satisfied: filelock in /home/user/conda/lib/python3.7/site-packages (from transformers>=4.2.0->simpletransformers) (3.0.12)\n",
      "Requirement already satisfied: sacremoses in /home/user/conda/lib/python3.7/site-packages (from transformers>=4.2.0->simpletransformers) (0.0.43)\n",
      "Requirement already satisfied: importlib-metadata; python_version < \"3.8\" in /home/user/conda/lib/python3.7/site-packages (from transformers>=4.2.0->simpletransformers) (2.0.0)\n",
      "Requirement already satisfied: setuptools in /home/user/conda/lib/python3.7/site-packages (from protobuf!=3.11,>=3.6.0->streamlit->simpletransformers) (49.6.0.post20201009)\n",
      "Requirement already satisfied: pyparsing>=2.0.2 in /home/user/conda/lib/python3.7/site-packages (from packaging->streamlit->simpletransformers) (2.4.7)\n",
      "Requirement already satisfied: jsonschema in /home/user/conda/lib/python3.7/site-packages (from altair>=3.2.0->streamlit->simpletransformers) (3.2.0)\n",
      "Requirement already satisfied: entrypoints in /home/user/conda/lib/python3.7/site-packages (from altair>=3.2.0->streamlit->simpletransformers) (0.3)\n",
      "Requirement already satisfied: toolz in /home/user/conda/lib/python3.7/site-packages (from altair>=3.2.0->streamlit->simpletransformers) (0.11.1)\n",
      "Requirement already satisfied: jinja2 in /home/user/conda/lib/python3.7/site-packages (from altair>=3.2.0->streamlit->simpletransformers) (2.11.2)\n",
      "Requirement already satisfied: decorator>=3.4.0 in /home/user/conda/lib/python3.7/site-packages (from validators->streamlit->simpletransformers) (4.4.2)\n",
      "Requirement already satisfied: gitdb<5,>=4.0.1 in /home/user/conda/lib/python3.7/site-packages (from gitpython->streamlit->simpletransformers) (4.0.5)\n",
      "Requirement already satisfied: ipykernel>=5.1.2; python_version >= \"3.4\" in /home/user/conda/lib/python3.7/site-packages (from pydeck>=0.1.dev5->streamlit->simpletransformers) (5.4.2)\n",
      "Requirement already satisfied: ipywidgets>=7.0.0 in /home/user/conda/lib/python3.7/site-packages (from pydeck>=0.1.dev5->streamlit->simpletransformers) (7.6.3)\n",
      "Requirement already satisfied: traitlets>=4.3.2 in /home/user/conda/lib/python3.7/site-packages (from pydeck>=0.1.dev5->streamlit->simpletransformers) (5.0.5)\n",
      "Requirement already satisfied: zipp>=0.5 in /home/user/conda/lib/python3.7/site-packages (from importlib-metadata; python_version < \"3.8\"->transformers>=4.2.0->simpletransformers) (3.3.0)\n",
      "Requirement already satisfied: attrs>=17.4.0 in /home/user/conda/lib/python3.7/site-packages (from jsonschema->altair>=3.2.0->streamlit->simpletransformers) (20.3.0)\n",
      "Requirement already satisfied: pyrsistent>=0.14.0 in /home/user/conda/lib/python3.7/site-packages (from jsonschema->altair>=3.2.0->streamlit->simpletransformers) (0.17.3)\n",
      "Requirement already satisfied: MarkupSafe>=0.23 in /home/user/conda/lib/python3.7/site-packages (from jinja2->altair>=3.2.0->streamlit->simpletransformers) (1.1.1)\n",
      "Requirement already satisfied: smmap<4,>=3.0.1 in /home/user/conda/lib/python3.7/site-packages (from gitdb<5,>=4.0.1->gitpython->streamlit->simpletransformers) (3.0.4)\n",
      "Requirement already satisfied: ipython>=5.0.0 in /home/user/conda/lib/python3.7/site-packages (from ipykernel>=5.1.2; python_version >= \"3.4\"->pydeck>=0.1.dev5->streamlit->simpletransformers) (7.19.0)\n",
      "Requirement already satisfied: jupyter-client in /home/user/conda/lib/python3.7/site-packages (from ipykernel>=5.1.2; python_version >= \"3.4\"->pydeck>=0.1.dev5->streamlit->simpletransformers) (6.1.7)\n",
      "Requirement already satisfied: nbformat>=4.2.0 in /home/user/conda/lib/python3.7/site-packages (from ipywidgets>=7.0.0->pydeck>=0.1.dev5->streamlit->simpletransformers) (5.0.8)\n",
      "Requirement already satisfied: widgetsnbextension~=3.5.0 in /home/user/conda/lib/python3.7/site-packages (from ipywidgets>=7.0.0->pydeck>=0.1.dev5->streamlit->simpletransformers) (3.5.1)\n",
      "Requirement already satisfied: jupyterlab-widgets>=1.0.0; python_version >= \"3.6\" in /home/user/conda/lib/python3.7/site-packages (from ipywidgets>=7.0.0->pydeck>=0.1.dev5->streamlit->simpletransformers) (1.0.0)\n",
      "Requirement already satisfied: ipython-genutils in /home/user/conda/lib/python3.7/site-packages (from traitlets>=4.3.2->pydeck>=0.1.dev5->streamlit->simpletransformers) (0.2.0)\n",
      "Requirement already satisfied: backcall in /home/user/conda/lib/python3.7/site-packages (from ipython>=5.0.0->ipykernel>=5.1.2; python_version >= \"3.4\"->pydeck>=0.1.dev5->streamlit->simpletransformers) (0.2.0)\n",
      "Requirement already satisfied: jedi>=0.10 in /home/user/conda/lib/python3.7/site-packages (from ipython>=5.0.0->ipykernel>=5.1.2; python_version >= \"3.4\"->pydeck>=0.1.dev5->streamlit->simpletransformers) (0.17.2)\n",
      "Requirement already satisfied: pygments in /home/user/conda/lib/python3.7/site-packages (from ipython>=5.0.0->ipykernel>=5.1.2; python_version >= \"3.4\"->pydeck>=0.1.dev5->streamlit->simpletransformers) (2.7.3)\n",
      "Requirement already satisfied: pickleshare in /home/user/conda/lib/python3.7/site-packages (from ipython>=5.0.0->ipykernel>=5.1.2; python_version >= \"3.4\"->pydeck>=0.1.dev5->streamlit->simpletransformers) (0.7.5)\n"
     ]
    },
    {
     "name": "stdout",
     "output_type": "stream",
     "text": [
      "Requirement already satisfied: prompt-toolkit!=3.0.0,!=3.0.1,<3.1.0,>=2.0.0 in /home/user/conda/lib/python3.7/site-packages (from ipython>=5.0.0->ipykernel>=5.1.2; python_version >= \"3.4\"->pydeck>=0.1.dev5->streamlit->simpletransformers) (3.0.8)\n",
      "Requirement already satisfied: pexpect>4.3; sys_platform != \"win32\" in /home/user/conda/lib/python3.7/site-packages (from ipython>=5.0.0->ipykernel>=5.1.2; python_version >= \"3.4\"->pydeck>=0.1.dev5->streamlit->simpletransformers) (4.8.0)\n",
      "Requirement already satisfied: pyzmq>=13 in /home/user/conda/lib/python3.7/site-packages (from jupyter-client->ipykernel>=5.1.2; python_version >= \"3.4\"->pydeck>=0.1.dev5->streamlit->simpletransformers) (20.0.0)\n",
      "Requirement already satisfied: jupyter-core>=4.6.0 in /home/user/conda/lib/python3.7/site-packages (from jupyter-client->ipykernel>=5.1.2; python_version >= \"3.4\"->pydeck>=0.1.dev5->streamlit->simpletransformers) (4.7.0)\n",
      "Requirement already satisfied: notebook>=4.4.1 in /home/user/conda/lib/python3.7/site-packages (from widgetsnbextension~=3.5.0->ipywidgets>=7.0.0->pydeck>=0.1.dev5->streamlit->simpletransformers) (6.1.4)\n",
      "Requirement already satisfied: parso<0.8.0,>=0.7.0 in /home/user/conda/lib/python3.7/site-packages (from jedi>=0.10->ipython>=5.0.0->ipykernel>=5.1.2; python_version >= \"3.4\"->pydeck>=0.1.dev5->streamlit->simpletransformers) (0.7.1)\n",
      "Requirement already satisfied: wcwidth in /home/user/conda/lib/python3.7/site-packages (from prompt-toolkit!=3.0.0,!=3.0.1,<3.1.0,>=2.0.0->ipython>=5.0.0->ipykernel>=5.1.2; python_version >= \"3.4\"->pydeck>=0.1.dev5->streamlit->simpletransformers) (0.2.5)\n",
      "Requirement already satisfied: ptyprocess>=0.5 in /home/user/conda/lib/python3.7/site-packages (from pexpect>4.3; sys_platform != \"win32\"->ipython>=5.0.0->ipykernel>=5.1.2; python_version >= \"3.4\"->pydeck>=0.1.dev5->streamlit->simpletransformers) (0.6.0)\n",
      "Requirement already satisfied: prometheus-client in /home/user/conda/lib/python3.7/site-packages (from notebook>=4.4.1->widgetsnbextension~=3.5.0->ipywidgets>=7.0.0->pydeck>=0.1.dev5->streamlit->simpletransformers) (0.8.0)\n",
      "Requirement already satisfied: Send2Trash in /home/user/conda/lib/python3.7/site-packages (from notebook>=4.4.1->widgetsnbextension~=3.5.0->ipywidgets>=7.0.0->pydeck>=0.1.dev5->streamlit->simpletransformers) (1.5.0)\n",
      "Requirement already satisfied: terminado>=0.8.3 in /home/user/conda/lib/python3.7/site-packages (from notebook>=4.4.1->widgetsnbextension~=3.5.0->ipywidgets>=7.0.0->pydeck>=0.1.dev5->streamlit->simpletransformers) (0.9.1)\n",
      "Requirement already satisfied: argon2-cffi in /home/user/conda/lib/python3.7/site-packages (from notebook>=4.4.1->widgetsnbextension~=3.5.0->ipywidgets>=7.0.0->pydeck>=0.1.dev5->streamlit->simpletransformers) (20.1.0)\n",
      "Requirement already satisfied: nbconvert in /home/user/conda/lib/python3.7/site-packages (from notebook>=4.4.1->widgetsnbextension~=3.5.0->ipywidgets>=7.0.0->pydeck>=0.1.dev5->streamlit->simpletransformers) (6.0.7)\n",
      "Requirement already satisfied: cffi>=1.0.0 in /home/user/conda/lib/python3.7/site-packages (from argon2-cffi->notebook>=4.4.1->widgetsnbextension~=3.5.0->ipywidgets>=7.0.0->pydeck>=0.1.dev5->streamlit->simpletransformers) (1.14.3)\n",
      "Requirement already satisfied: defusedxml in /home/user/conda/lib/python3.7/site-packages (from nbconvert->notebook>=4.4.1->widgetsnbextension~=3.5.0->ipywidgets>=7.0.0->pydeck>=0.1.dev5->streamlit->simpletransformers) (0.6.0)\n",
      "Requirement already satisfied: nbclient<0.6.0,>=0.5.0 in /home/user/conda/lib/python3.7/site-packages (from nbconvert->notebook>=4.4.1->widgetsnbextension~=3.5.0->ipywidgets>=7.0.0->pydeck>=0.1.dev5->streamlit->simpletransformers) (0.5.1)\n",
      "Requirement already satisfied: pandocfilters>=1.4.1 in /home/user/conda/lib/python3.7/site-packages (from nbconvert->notebook>=4.4.1->widgetsnbextension~=3.5.0->ipywidgets>=7.0.0->pydeck>=0.1.dev5->streamlit->simpletransformers) (1.4.3)\n",
      "Requirement already satisfied: bleach in /home/user/conda/lib/python3.7/site-packages (from nbconvert->notebook>=4.4.1->widgetsnbextension~=3.5.0->ipywidgets>=7.0.0->pydeck>=0.1.dev5->streamlit->simpletransformers) (3.2.1)\n",
      "Requirement already satisfied: mistune<2,>=0.8.1 in /home/user/conda/lib/python3.7/site-packages (from nbconvert->notebook>=4.4.1->widgetsnbextension~=3.5.0->ipywidgets>=7.0.0->pydeck>=0.1.dev5->streamlit->simpletransformers) (0.8.4)\n",
      "Requirement already satisfied: jupyterlab-pygments in /home/user/conda/lib/python3.7/site-packages (from nbconvert->notebook>=4.4.1->widgetsnbextension~=3.5.0->ipywidgets>=7.0.0->pydeck>=0.1.dev5->streamlit->simpletransformers) (0.1.2)\n",
      "Requirement already satisfied: testpath in /home/user/conda/lib/python3.7/site-packages (from nbconvert->notebook>=4.4.1->widgetsnbextension~=3.5.0->ipywidgets>=7.0.0->pydeck>=0.1.dev5->streamlit->simpletransformers) (0.4.4)\n",
      "Requirement already satisfied: pycparser in /home/user/conda/lib/python3.7/site-packages (from cffi>=1.0.0->argon2-cffi->notebook>=4.4.1->widgetsnbextension~=3.5.0->ipywidgets>=7.0.0->pydeck>=0.1.dev5->streamlit->simpletransformers) (2.20)\n",
      "Requirement already satisfied: async-generator in /home/user/conda/lib/python3.7/site-packages (from nbclient<0.6.0,>=0.5.0->nbconvert->notebook>=4.4.1->widgetsnbextension~=3.5.0->ipywidgets>=7.0.0->pydeck>=0.1.dev5->streamlit->simpletransformers) (1.10)\n",
      "Requirement already satisfied: nest-asyncio in /home/user/conda/lib/python3.7/site-packages (from nbclient<0.6.0,>=0.5.0->nbconvert->notebook>=4.4.1->widgetsnbextension~=3.5.0->ipywidgets>=7.0.0->pydeck>=0.1.dev5->streamlit->simpletransformers) (1.4.3)\n",
      "Requirement already satisfied: webencodings in /home/user/conda/lib/python3.7/site-packages (from bleach->nbconvert->notebook>=4.4.1->widgetsnbextension~=3.5.0->ipywidgets>=7.0.0->pydeck>=0.1.dev5->streamlit->simpletransformers) (0.5.1)\n",
      "Requirement already satisfied: jsonlines in /home/user/conda/lib/python3.7/site-packages (2.0.0)\n",
      "Requirement already satisfied: pytelegrambotapi in /home/user/conda/lib/python3.7/site-packages (3.7.6)\n",
      "Requirement already satisfied: requests in /home/user/conda/lib/python3.7/site-packages (from pytelegrambotapi) (2.24.0)\n",
      "Requirement already satisfied: certifi>=2017.4.17 in /home/user/conda/lib/python3.7/site-packages (from requests->pytelegrambotapi) (2020.12.5)\n",
      "Requirement already satisfied: idna<3,>=2.5 in /home/user/conda/lib/python3.7/site-packages (from requests->pytelegrambotapi) (2.10)\n",
      "Requirement already satisfied: urllib3!=1.25.0,!=1.25.1,<1.26,>=1.21.1 in /home/user/conda/lib/python3.7/site-packages (from requests->pytelegrambotapi) (1.25.10)\n",
      "Requirement already satisfied: chardet<4,>=3.0.2 in /home/user/conda/lib/python3.7/site-packages (from requests->pytelegrambotapi) (3.0.4)\n",
      "Requirement already satisfied: tqdm in /home/user/conda/lib/python3.7/site-packages (4.50.2)\n"
     ]
    }
   ],
   "source": [
    "#@title Installing libraries { display-mode: \"form\" }\n",
    "!pip3 install transformers \n",
    "!pip3 install tensorboard \n",
    "!pip3 install simpletransformers\n",
    "!pip3 install jsonlines\n",
    "!pip3 install pytelegrambotapi\n",
    "!pip3 install tqdm"
   ]
  },
  {
   "cell_type": "code",
   "execution_count": 16,
   "metadata": {},
   "outputs": [
    {
     "name": "stdout",
     "output_type": "stream",
     "text": [
      "mkdir: cannot create directory ‘/usr/local/lib/python3.6/dist-packages/tqdm-4.41.1.dist-info/METADATA’: No such file or directory\n",
      "Populating the interactive namespace from numpy and matplotlib\n",
      "The tensorboard extension is already loaded. To reload it, use:\n",
      "  %reload_ext tensorboard\n",
      "Building jupyterlab assets (build:prod:minimize)\n"
     ]
    }
   ],
   "source": [
    "#@title Setup & Config & Imports\n",
    "!mkdir /usr/local/lib/python3.6/dist-packages/tqdm-4.41.1.dist-info/METADATA\n",
    "import tqdm\n",
    "class _TQDM(tqdm.tqdm):\n",
    "    def __init__(self, *argv, **kwargs):\n",
    "        kwargs['disable'] = True\n",
    "        if kwargs.get('disable_override', 'def') != 'def':\n",
    "            kwargs['disable'] = kwargs['disable_override']\n",
    "        super().__init__(*argv, **kwargs)\n",
    "tqdm.tqdm = _TQDM\n",
    " \n",
    "import pandas as pd\n",
    "import numpy as np\n",
    "import json\n",
    "import jsonlines\n",
    "import re\n",
    "from collections import defaultdict, Counter\n",
    " \n",
    "import matplotlib.pyplot as plt\n",
    "import matplotlib as mpl\n",
    "mpl.rcParams['text.color'] = mpl.rcParams['axes.labelcolor'] = mpl.rcParams['xtick.color'] = mpl.rcParams['ytick.color'] = 'white'\n",
    " \n",
    "%pylab inline\n",
    "from sklearn.metrics import *\n",
    " \n",
    "try:\n",
    "    from simpletransformers.classification import ClassificationModel, ClassificationArgs\n",
    "except (FileNotFoundError, AttributeError):\n",
    "    from simpletransformers.classification import ClassificationModel, ClassificationArgs\n",
    "from simpletransformers.question_answering import QuestionAnsweringModel, QuestionAnsweringArgs\n",
    " \n",
    "%load_ext tensorboard\n",
    " \n",
    "import string\n",
    " \n",
    "RS = 179\n",
    "PUNCTUATION = string.punctuation\n",
    "!jupyter labextension install @jupyter-widgets/jupyterlab-manager"
   ]
  },
  {
   "cell_type": "code",
   "execution_count": 17,
   "metadata": {},
   "outputs": [
    {
     "name": "stdout",
     "output_type": "stream",
     "text": [
      "Building jupyterlab assets (build:prod:minimize)\n"
     ]
    }
   ],
   "source": [
    "!jupyter labextension install @jupyter-widgets/jupyterlab-manager"
   ]
  },
  {
   "cell_type": "code",
   "execution_count": 18,
   "metadata": {},
   "outputs": [],
   "source": [
    "!rm -rf sample_data/"
   ]
  },
  {
   "cell_type": "markdown",
   "metadata": {},
   "source": [
    "# Downloading data"
   ]
  },
  {
   "cell_type": "code",
   "execution_count": null,
   "metadata": {},
   "outputs": [],
   "source": []
  },
  {
   "cell_type": "code",
   "execution_count": 19,
   "metadata": {},
   "outputs": [
    {
     "name": "stdout",
     "output_type": "stream",
     "text": [
      "  % Total    % Received % Xferd  Average Speed   Time    Time     Time  Current\n",
      "                                 Dload  Upload   Total   Spent    Left  Speed\n",
      "100 53.6M  100 53.6M    0     0  13.4M      0  0:00:03  0:00:03 --:--:-- 13.4M\n",
      "Archive:  data.zip\n",
      "  inflating: __MACOSX/._RuCoS        \n",
      "  inflating: RuCoS/.DS_Store         \n",
      "  inflating: __MACOSX/RuCoS/._.DS_Store  \n",
      "  inflating: RuCoS/rucos_test.jsonl  \n",
      "  inflating: __MACOSX/RuCoS/._rucos_test.jsonl  \n",
      "  inflating: RuCoS/rucos_val.jsonl   \n",
      "  inflating: __MACOSX/RuCoS/._rucos_val.jsonl  \n",
      "  inflating: RuCoS/rucos_train.jsonl  \n",
      "  inflating: __MACOSX/RuCoS/._rucos_train.jsonl  \n",
      "mv: cannot move 'RuCoS/' to 'data/RuCoS': Directory not empty\n"
     ]
    }
   ],
   "source": [
    "!curl https://onti2020.ai-academy.ru/task/rucos.zip -o data.zip\n",
    "!unzip -o data.zip\n",
    "\n",
    "!mv RuCoS/ data/"
   ]
  },
  {
   "cell_type": "code",
   "execution_count": 20,
   "metadata": {},
   "outputs": [
    {
     "name": "stdout",
     "output_type": "stream",
     "text": [
      "total 256M\r\n",
      "drwxr-xr-x  3 jovyan jovyan 4.0K Mar  2 05:11 .\r\n",
      "drwxrwxrwx 20 root   root   4.0K Mar  2 13:11 ..\r\n",
      "drwxr-xr-x  2 jovyan jovyan 4.0K Mar  2 05:11 RuCoS\r\n",
      "-rwxr-xr-x  1 jovyan jovyan 175M Oct 15 03:26 rucos_train.jsonl\r\n",
      "-rw-r--r--  1 jovyan jovyan  17M Mar  2 05:09 test.jsonl\r\n",
      "-rw-r--r--  1 jovyan jovyan  45M Mar  2 05:09 train.zip\r\n",
      "-rw-r--r--  1 jovyan jovyan  19M Mar  2 05:09 val.jsonl\r\n"
     ]
    }
   ],
   "source": [
    "!ls -lah data/"
   ]
  },
  {
   "cell_type": "markdown",
   "metadata": {},
   "source": [
    "# Process data"
   ]
  },
  {
   "cell_type": "code",
   "execution_count": 21,
   "metadata": {},
   "outputs": [],
   "source": [
    "class QADataset: \n",
    "    \"\"\"Question and answers dataset\"\"\" \n",
    "     \n",
    "    def __init__(self, path, making_smaller=False): \n",
    "        \"\"\" \n",
    "        Args: \n",
    "            path (string): Path to jsonl file \n",
    "        \"\"\" \n",
    "        self.path = path \n",
    "        data = [] \n",
    "        self.text = [] \n",
    "        with open(path, 'r') as json_file: \n",
    "            json_list = list(json_file) \n",
    "            for json_str in tqdm.tqdm(json_list): \n",
    "                item = json.loads(json_str) \n",
    "                text = item['passage']['text'] \n",
    "                self.text.append(text) \n",
    "                entities = item['passage']['entities'] \n",
    "                used = set()\n",
    "                for en in entities:\n",
    "                    word = text[en['start']:en['end']] \n",
    "                    if word not in used:\n",
    "                        used.add(word)\n",
    "                entities = list(used)\n",
    "\n",
    "                for row in item['qas']: \n",
    "                    for ans in row.get('answers', [None]): \n",
    "                        q_text = row['query'] \n",
    "                        for i, word in enumerate(entities): \n",
    "                            n_q = q_text.replace('@placeholder', word) \n",
    "                            data.append({\"idx\": f'{item[\"idx\"]}/{i}', \n",
    "                                         \"text_id\": len(self.text) - 1,\n",
    "                                         \"query\": n_q})\n",
    "                            \n",
    "                            if not ans:\n",
    "                                continue \n",
    " \n",
    "                            label = int(ans['text'].strip() == word.strip())\n",
    "                            if not making_smaller or label or random.randint(1, 10) == 1:\n",
    "                                data[-1][\"label\"] = label\n",
    "                            else:\n",
    "                                data.pop()\n",
    "                self.text[-1] = re.sub(r'(@\\w+)|(\\\\n)', \" \", self.text[-1])\n",
    "        self.data = pd.DataFrame.from_dict(data).set_index(\"idx\")\n",
    "     \n",
    "    def __len__(self): \n",
    "        return len(self.data) \n",
    " \n",
    "    def __getitem__(self, ind):  \n",
    "        if type(ind) == int: \n",
    "            row = self.data.iloc[ind] \n",
    "            text_a = self.text[row.text_id].split() \n",
    "            text_b = row.query \n",
    " \n",
    "            w = 512 - len(text_b.split()) - 5 \n",
    "            e = random.randint(0, len(text_a) - w) \n",
    "            text_a = ' '.join(text_a[e:e + w]) \n",
    " \n",
    "            res = [[list(self.data.index)[ind], text_a, text_b, row.label if 'label' in self.data.columns else None]] \n",
    "            return pd.DataFrame(res, columns=[\"idx\", \"text_a\", \"text_b\", \"labels\"]).set_index(\"idx\") \n",
    "        if type(ind) == slice: \n",
    "            res = [] \n",
    "            rows = self.data.iloc[ind] \n",
    "            for idx, row in rows.iterrows(): \n",
    "                text_a = self.text[row.text_id].split() \n",
    "                text_b = row.query \n",
    " \n",
    "                w = 512 - len(text_b.split()) - 5 \n",
    "                e = random.randint(0, max(1, len(text_a) - w)) \n",
    "                text_a = ' '.join(text_a[e:e + w]) \n",
    " \n",
    "                res.append([idx, text_a, text_b, row.label if 'label' in self.data.columns else None]) \n",
    "            return pd.DataFrame(res, columns=[\"idx\", \"text_a\", \"text_b\", \"labels\"]).set_index(\"idx\")\n",
    " \n",
    " \n",
    "    def get_df(self): \n",
    "        texts = self.data['data'] \n",
    "        labels = self.data['label'] if 'label' in self.data.columns else [None] * self.data.shape[0] \n",
    " \n",
    "        return pd.DataFrame({ \n",
    "                    'text': texts, \n",
    "                    'labels': labels \n",
    "                })"
   ]
  },
  {
   "cell_type": "code",
   "execution_count": 22,
   "metadata": {},
   "outputs": [],
   "source": [
    "train_df = QADataset('data/rucos_train.jsonl', making_smaller=True)\n",
    "val_df = QADataset('data/val.jsonl')\n",
    "test_df = QADataset('data/test.jsonl')"
   ]
  },
  {
   "cell_type": "code",
   "execution_count": 23,
   "metadata": {},
   "outputs": [
    {
     "data": {
      "text/html": [
       "<div>\n",
       "<style scoped>\n",
       "    .dataframe tbody tr th:only-of-type {\n",
       "        vertical-align: middle;\n",
       "    }\n",
       "\n",
       "    .dataframe tbody tr th {\n",
       "        vertical-align: top;\n",
       "    }\n",
       "\n",
       "    .dataframe thead th {\n",
       "        text-align: right;\n",
       "    }\n",
       "</style>\n",
       "<table border=\"1\" class=\"dataframe\">\n",
       "  <thead>\n",
       "    <tr style=\"text-align: right;\">\n",
       "      <th></th>\n",
       "      <th>text_a</th>\n",
       "      <th>text_b</th>\n",
       "      <th>labels</th>\n",
       "    </tr>\n",
       "    <tr>\n",
       "      <th>idx</th>\n",
       "      <th></th>\n",
       "      <th></th>\n",
       "      <th></th>\n",
       "    </tr>\n",
       "  </thead>\n",
       "  <tbody>\n",
       "    <tr>\n",
       "      <th>0/3</th>\n",
       "      <td>Наблюдатели полагают, что подоплекой теракта в...</td>\n",
       "      <td>Кроме того, серьезным вызовом для России стано...</td>\n",
       "      <td>1</td>\n",
       "    </tr>\n",
       "    <tr>\n",
       "      <th>1/1</th>\n",
       "      <td>О вторжении на Украину танковой колонны из РФ ...</td>\n",
       "      <td>Россия категорически опровергла сообщение Итал...</td>\n",
       "      <td>0</td>\n",
       "    </tr>\n",
       "    <tr>\n",
       "      <th>1/2</th>\n",
       "      <td>О вторжении на Украину танковой колонны из РФ ...</td>\n",
       "      <td>Россия категорически опровергла сообщение Киев...</td>\n",
       "      <td>0</td>\n",
       "    </tr>\n",
       "    <tr>\n",
       "      <th>1/8</th>\n",
       "      <td>О вторжении на Украину танковой колонны из РФ ...</td>\n",
       "      <td>Россия категорически опровергла сообщение СНБО...</td>\n",
       "      <td>0</td>\n",
       "    </tr>\n",
       "    <tr>\n",
       "      <th>1/9</th>\n",
       "      <td>О вторжении на Украину танковой колонны из РФ ...</td>\n",
       "      <td>Россия категорически опровергла сообщение Укра...</td>\n",
       "      <td>0</td>\n",
       "    </tr>\n",
       "  </tbody>\n",
       "</table>\n",
       "</div>"
      ],
      "text/plain": [
       "                                                text_a  \\\n",
       "idx                                                      \n",
       "0/3  Наблюдатели полагают, что подоплекой теракта в...   \n",
       "1/1  О вторжении на Украину танковой колонны из РФ ...   \n",
       "1/2  О вторжении на Украину танковой колонны из РФ ...   \n",
       "1/8  О вторжении на Украину танковой колонны из РФ ...   \n",
       "1/9  О вторжении на Украину танковой колонны из РФ ...   \n",
       "\n",
       "                                                text_b  labels  \n",
       "idx                                                             \n",
       "0/3  Кроме того, серьезным вызовом для России стано...       1  \n",
       "1/1  Россия категорически опровергла сообщение Итал...       0  \n",
       "1/2  Россия категорически опровергла сообщение Киев...       0  \n",
       "1/8  Россия категорически опровергла сообщение СНБО...       0  \n",
       "1/9  Россия категорически опровергла сообщение Укра...       0  "
      ]
     },
     "execution_count": 23,
     "metadata": {},
     "output_type": "execute_result"
    }
   ],
   "source": [
    "train_df[:].head()"
   ]
  },
  {
   "cell_type": "markdown",
   "metadata": {},
   "source": [
    "# Model params"
   ]
  },
  {
   "cell_type": "code",
   "execution_count": 24,
   "metadata": {},
   "outputs": [],
   "source": [
    "# @title Model params { run: \"auto\" }\n",
    "model_name = \"DeepPavlov/rubert-base-cased\" #@param {type:\"string\"}\n",
    "num_train_epochs = 3 #@param {type:\"slider\", min:1, max:50, step:1}\n",
    "use_cuda = True #@param [\"True\", \"False\"] {type:\"raw\"}\n",
    "learning_rate =  4e-5 #@param {type:\"number\"}\n",
    "train_batch_size = 32 #@param {type:\"slider\", min:1, max:100, step:1}\n",
    "no_save = True #@param [\"True\", \"False\"] {type:\"raw\"}\n",
    "adam_epsilon =  3e-8 #@param {type:\"number\"}"
   ]
  },
  {
   "cell_type": "markdown",
   "metadata": {},
   "source": [
    "# Creating model"
   ]
  },
  {
   "cell_type": "code",
   "execution_count": 25,
   "metadata": {},
   "outputs": [
    {
     "name": "stderr",
     "output_type": "stream",
     "text": [
      "Some weights of BertForSequenceClassification were not initialized from the model checkpoint at DeepPavlov/rubert-base-cased and are newly initialized: ['classifier.bias', 'classifier.weight']\n",
      "You should probably TRAIN this model on a down-stream task to be able to use it for predictions and inference.\n"
     ]
    }
   ],
   "source": [
    "model = ClassificationModel(model_type='bert',\n",
    "                            model_name=model_name,\n",
    "                            use_cuda=use_cuda,\n",
    "                            num_labels=2,\n",
    "        \n",
    "                            args=ClassificationArgs(\n",
    "                                                    num_train_epochs=num_train_epochs,\n",
    "                                                    learning_rate=learning_rate,\n",
    "                                                    adam_epsilon=adam_epsilon,\n",
    "                                                    \n",
    "                                                    train_batch_size=train_batch_size,\n",
    "                                                    max_seq_length=512,\n",
    "                                                    manual_seed=RS,\n",
    "                                                    \n",
    "                                                    overwrite_output_dir=True,\n",
    "                                                    no_cache=False,\n",
    "                                                    no_save=no_save,\n",
    "                                                    save_eval_checkpoints=False,\n",
    "                                                    save_model_every_epoch=False,\n",
    "                                                    save_steps=-1,\n",
    "                                            )\n",
    "                            )"
   ]
  },
  {
   "cell_type": "markdown",
   "metadata": {},
   "source": [
    "# Training"
   ]
  },
  {
   "cell_type": "code",
   "execution_count": null,
   "metadata": {},
   "outputs": [],
   "source": []
  },
  {
   "cell_type": "code",
   "execution_count": 26,
   "metadata": {},
   "outputs": [
    {
     "data": {
      "application/vnd.jupyter.widget-view+json": {
       "model_id": "72eeb81b993e4d94bdecd988ccee8159",
       "version_major": 2,
       "version_minor": 0
      },
      "text/plain": [
       "HBox(children=(HTML(value=''), FloatProgress(value=0.0, max=189.0), HTML(value='')))"
      ]
     },
     "metadata": {},
     "output_type": "display_data"
    },
    {
     "name": "stdout",
     "output_type": "stream",
     "text": [
      "\n"
     ]
    },
    {
     "data": {
      "application/vnd.jupyter.widget-view+json": {
       "model_id": "68d236e1cf584426826bc3052e197812",
       "version_major": 2,
       "version_minor": 0
      },
      "text/plain": [
       "HBox(children=(HTML(value='Epoch'), FloatProgress(value=0.0, max=3.0), HTML(value='')))"
      ]
     },
     "metadata": {},
     "output_type": "display_data"
    },
    {
     "data": {
      "application/vnd.jupyter.widget-view+json": {
       "model_id": "1e233a908b4943aeb56cee6e622f5299",
       "version_major": 2,
       "version_minor": 0
      },
      "text/plain": [
       "HBox(children=(HTML(value='Running Epoch 0 of 3'), FloatProgress(value=0.0, max=12000.0), HTML(value='')))"
      ]
     },
     "metadata": {},
     "output_type": "display_data"
    },
    {
     "name": "stdout",
     "output_type": "stream",
     "text": [
      "\n"
     ]
    },
    {
     "data": {
      "application/vnd.jupyter.widget-view+json": {
       "model_id": "bbc0dde7b8d54f13a47852a1030e07c4",
       "version_major": 2,
       "version_minor": 0
      },
      "text/plain": [
       "HBox(children=(HTML(value='Running Epoch 1 of 3'), FloatProgress(value=0.0, max=12000.0), HTML(value='')))"
      ]
     },
     "metadata": {},
     "output_type": "display_data"
    },
    {
     "name": "stderr",
     "output_type": "stream",
     "text": [
      "IOPub message rate exceeded.\n",
      "The notebook server will temporarily stop sending output\n",
      "to the client in order to avoid crashing it.\n",
      "To change this limit, set the config variable\n",
      "`--NotebookApp.iopub_msg_rate_limit`.\n",
      "\n",
      "Current values:\n",
      "NotebookApp.iopub_msg_rate_limit=1000.0 (msgs/sec)\n",
      "NotebookApp.rate_limit_window=3.0 (secs)\n",
      "\n"
     ]
    },
    {
     "name": "stdout",
     "output_type": "stream",
     "text": [
      "\n"
     ]
    },
    {
     "data": {
      "application/vnd.jupyter.widget-view+json": {
       "model_id": "178f4900b8054c3da489592d376599be",
       "version_major": 2,
       "version_minor": 0
      },
      "text/plain": [
       "HBox(children=(HTML(value='Running Epoch 2 of 3'), FloatProgress(value=0.0, max=12000.0), HTML(value='')))"
      ]
     },
     "metadata": {},
     "output_type": "display_data"
    },
    {
     "name": "stderr",
     "output_type": "stream",
     "text": [
      "IOPub message rate exceeded.\n",
      "The notebook server will temporarily stop sending output\n",
      "to the client in order to avoid crashing it.\n",
      "To change this limit, set the config variable\n",
      "`--NotebookApp.iopub_msg_rate_limit`.\n",
      "\n",
      "Current values:\n",
      "NotebookApp.iopub_msg_rate_limit=1000.0 (msgs/sec)\n",
      "NotebookApp.rate_limit_window=3.0 (secs)\n",
      "\n"
     ]
    },
    {
     "name": "stdout",
     "output_type": "stream",
     "text": [
      "\n",
      "\n"
     ]
    },
    {
     "data": {
      "text/plain": [
       "(36000, 0.2672465087745546)"
      ]
     },
     "execution_count": 26,
     "metadata": {},
     "output_type": "execute_result"
    }
   ],
   "source": [
    "model.train_model(train_df[:])"
   ]
  },
  {
   "cell_type": "code",
   "execution_count": null,
   "metadata": {},
   "outputs": [],
   "source": []
  },
  {
   "cell_type": "code",
   "execution_count": 27,
   "metadata": {},
   "outputs": [],
   "source": [
    "actual_test = test_df[:]"
   ]
  },
  {
   "cell_type": "code",
   "execution_count": 28,
   "metadata": {},
   "outputs": [],
   "source": [
    "def save_pred(filename, preds):\n",
    "    with open('data/test.jsonl', 'r') as json_file:\n",
    "        test = list(map(lambda x: json.loads(x), list(json_file)))\n",
    "    ind = 0\n",
    "    res = []\n",
    "    print(len(actual_test))\n",
    "    print(len(test))\n",
    "    \n",
    "    for i in range(len(test)):\n",
    "        ent_prob = []\n",
    "        \n",
    "        entities = test[i]['passage']['entities']\n",
    "        used = set()\n",
    "        for en in entities:\n",
    "            word = test[i]['passage']['text'][en['start']:en['end']] \n",
    "            if word not in used:\n",
    "                used.add(word)\n",
    "        entities = list(used)\n",
    "        \n",
    "        for j in range(len(entities)):\n",
    "            ent_prob.append(preds[ind])\n",
    "            ind += 1\n",
    "        ent_prob = np.array(ent_prob).argmax()\n",
    "        \n",
    "#         start, end = test[i]['passage'][\"entities\"][ent_prob]['start'], test[i]['passage'][\"entities\"][ent_prob]['end']\n",
    "        answer = entities[ent_prob]\n",
    "        res.append({\"idx\": test[i][\"idx\"], \"text\": answer})\n",
    "    \n",
    "    !mkdir submitions/\n",
    "    \n",
    "    with jsonlines.open(\"submitions/\" + filename, 'w') as file:\n",
    "        file.write_all(res)"
   ]
  },
  {
   "cell_type": "code",
   "execution_count": 31,
   "metadata": {},
   "outputs": [
    {
     "data": {
      "application/vnd.jupyter.widget-view+json": {
       "model_id": "6096c856a65b4272becf021db7d12f08",
       "version_major": 2,
       "version_minor": 0
      },
      "text/plain": [
       "HBox(children=(HTML(value=''), FloatProgress(value=0.0, max=8469.0), HTML(value='')))"
      ]
     },
     "metadata": {},
     "output_type": "display_data"
    },
    {
     "name": "stderr",
     "output_type": "stream",
     "text": [
      "IOPub message rate exceeded.\n",
      "The notebook server will temporarily stop sending output\n",
      "to the client in order to avoid crashing it.\n",
      "To change this limit, set the config variable\n",
      "`--NotebookApp.iopub_msg_rate_limit`.\n",
      "\n",
      "Current values:\n",
      "NotebookApp.iopub_msg_rate_limit=1000.0 (msgs/sec)\n",
      "NotebookApp.rate_limit_window=3.0 (secs)\n",
      "\n"
     ]
    }
   ],
   "source": [
    "predictions, raw_outputs = model.predict(list(zip(test_df[:].text_a, test_df[:].text_b)))"
   ]
  },
  {
   "cell_type": "code",
   "execution_count": 32,
   "metadata": {},
   "outputs": [
    {
     "name": "stdout",
     "output_type": "stream",
     "text": [
      "    cnt: Counter({0: 52365, 1: 15386})\n",
      "0 label: 77.290%\n",
      "1 label: 22.710%\n"
     ]
    }
   ],
   "source": [
    "cnt = Counter(predictions)\n",
    "\n",
    "print(f'    cnt: {cnt}')\n",
    "print(f\"0 label: {cnt[0] / len(predictions) * 100:.3f}%\")\n",
    "print(f\"1 label: {cnt[1] / len(predictions) * 100:.3f}%\")"
   ]
  },
  {
   "cell_type": "code",
   "execution_count": 33,
   "metadata": {},
   "outputs": [
    {
     "data": {
      "text/plain": [
       "array([7.62699662e-02, 9.96234586e-01, 2.04493945e-02, ...,\n",
       "       2.48261100e-04, 8.49472369e-01, 2.50207749e-04])"
      ]
     },
     "execution_count": 33,
     "metadata": {},
     "output_type": "execute_result"
    }
   ],
   "source": [
    "from scipy.special import softmax\n",
    "pred_proba = np.array([elem[1] for elem in softmax(raw_outputs, axis=1)])\n",
    "pred_proba"
   ]
  },
  {
   "cell_type": "code",
   "execution_count": 34,
   "metadata": {},
   "outputs": [
    {
     "name": "stdout",
     "output_type": "stream",
     "text": [
      "67751\n",
      "7257\n",
      "mkdir: cannot create directory ‘submitions/’: File exists\n"
     ]
    }
   ],
   "source": [
    "file_name = f'{__import__(\"datetime\").datetime.now()}.jsonl'\n",
    "save_pred(file_name, pred_proba)"
   ]
  },
  {
   "cell_type": "code",
   "execution_count": null,
   "metadata": {},
   "outputs": [],
   "source": []
  },
  {
   "cell_type": "code",
   "execution_count": 35,
   "metadata": {},
   "outputs": [
    {
     "data": {
      "text/plain": [
       "67751"
      ]
     },
     "execution_count": 35,
     "metadata": {},
     "output_type": "execute_result"
    }
   ],
   "source": [
    "len(pred_proba)"
   ]
  },
  {
   "cell_type": "code",
   "execution_count": null,
   "metadata": {},
   "outputs": [],
   "source": []
  }
 ],
 "metadata": {
  "kernelspec": {
   "display_name": "Python 3",
   "language": "python",
   "name": "python3"
  },
  "language_info": {
   "codemirror_mode": {
    "name": "ipython",
    "version": 3
   },
   "file_extension": ".py",
   "mimetype": "text/x-python",
   "name": "python",
   "nbconvert_exporter": "python",
   "pygments_lexer": "ipython3",
   "version": "3.7.8"
  }
 },
 "nbformat": 4,
 "nbformat_minor": 4
}
